{
 "cells": [
  {
   "cell_type": "code",
   "execution_count": 1,
   "metadata": {},
   "outputs": [],
   "source": [
    "import pandas as pd\n",
    "import numpy as np\n",
    "\n",
    "path = 'C:/Users/tangzz/Documents/Data/iFLYTEK/'\n",
    "train = pd.read_csv(path+\"train_feature.csv\")\n",
    "test = pd.read_csv(path+\"test_feature.csv\")"
   ]
  },
  {
   "cell_type": "code",
   "execution_count": 3,
   "metadata": {},
   "outputs": [],
   "source": [
    "# from gensim.models import word2vec\n",
    "\n",
    "# sentences = word2vec.Text8Corpus(path+ 'concat_features_space.txt')\n",
    "# model = word2vec.Word2Vec(sentences,size=10)\n",
    "# save_model_name = path +'model/'+ \"user_tags_10.model\"\n",
    "# model.save(save_model_name)"
   ]
  },
  {
   "cell_type": "code",
   "execution_count": 43,
   "metadata": {},
   "outputs": [],
   "source": [
    "# #  user_tags  频率字典\n",
    "# user_tags_dict = {}\n",
    "# for i in range(len(train)):\n",
    "#     lines_tags = train['user_tags'][i]\n",
    "#     lines_tags = str(lines_tags).split(',')\n",
    "#     if lines_tags[0] == 'nan':\n",
    "#         lines_tags = '0'\n",
    "#     for tags in lines_tags:\n",
    "#         if tags not in user_tags_dict:\n",
    "#             user_tags_dict[tags] = 1\n",
    "#         else:\n",
    "#             user_tags_dict[tags] +=1\n",
    "# user_tags_dict.pop('')        \n",
    "    \n",
    "# import pickle\n",
    "# with open(path+'dict/user_tags_dict.dat', \"wb\") as file_obj:  \n",
    "#     pickle.dump(user_tags_dict, file_obj)"
   ]
  },
  {
   "cell_type": "code",
   "execution_count": null,
   "metadata": {},
   "outputs": [],
   "source": [
    "# # user_tags 向量字典\n",
    "# from gensim.models import word2vec \n",
    "# import numpy as np \n",
    "# import pickle\n",
    "\n",
    "# with open( path + 'dict/user_tags_dict.dat','rb') as f:\n",
    "#         user_tags_dict = pickle.load(f)\n",
    "        \n",
    "# save_model_name = path + 'model/'+\"user_tags_10.model\"\n",
    "# model = word2vec.Word2Vec.load(save_model_name)\n",
    "# user_tags_vec_dict = {}\n",
    "# user_tags_vec_KNN = []\n",
    "\n",
    "# for item in user_tags_dict.keys():\n",
    "#     if item in model:\n",
    "#         user_tags_vec_dict[item] = model[item]\n",
    "#         user_tags_vec_KNN.append(model[item])\n",
    "        \n",
    "# with open(path+'dict/user_tags_vec_dict.dat', \"wb\") as file_obj:  \n",
    "#     pickle.dump(user_tags_vec_dict, file_obj)\n",
    "# with open(path+'dict/user_tags_vec_KNN.dat', \"wb\") as file_obj:  \n",
    "#     pickle.dump(user_tags_vec_KNN, file_obj)"
   ]
  },
  {
   "cell_type": "code",
   "execution_count": 47,
   "metadata": {
    "scrolled": true
   },
   "outputs": [
    {
     "data": {
      "text/plain": [
       "KMeans(algorithm='auto', copy_x=True, init='k-means++', max_iter=300,\n",
       "    n_clusters=10, n_init=10, n_jobs=1, precompute_distances='auto',\n",
       "    random_state=None, tol=0.0001, verbose=0)"
      ]
     },
     "execution_count": 47,
     "metadata": {},
     "output_type": "execute_result"
    }
   ],
   "source": [
    "# from sklearn.cluster import KMeans\n",
    "\n",
    "# n_cluster = 10\n",
    "# kmean = KMeans(n_clusters=n_cluster)\n",
    "# X = np.array(user_tags_vec_KNN)\n",
    "# kmean.fit(X)"
   ]
  },
  {
   "cell_type": "code",
   "execution_count": null,
   "metadata": {},
   "outputs": [],
   "source": [
    "# # 每个user_tag 对应的种类字典\n",
    "# import pickle\n",
    "\n",
    "# classNum = kmean.labels_\n",
    "\n",
    "# with open( path + 'dict/user_tags_vec_dict.dat','rb') as f:\n",
    "#         user_tags_vec_dict = pickle.load(f)\n",
    "        \n",
    "# user_tags_class_dict = {}\n",
    "# key = 0\n",
    "# for item in user_tags_vec_dict.keys():\n",
    "#     user_tags_class_dict[item] = classNum[key]\n",
    "#     key +=1\n",
    "# print(key)\n",
    "# with open(path+'dict/user_tags_class_dict.dat', \"wb\") as file_obj:  \n",
    "#     pickle.dump(user_tags_class_dict, file_obj)"
   ]
  },
  {
   "cell_type": "code",
   "execution_count": 30,
   "metadata": {},
   "outputs": [
    {
     "data": {
      "text/plain": [
       "Index(['instance_id', 'time', 'city', 'province', 'user_tags', 'carrier',\n",
       "       'devtype', 'make', 'model', 'nnt', 'os', 'osv', 'os_name', 'adid',\n",
       "       'advert_id', 'orderid', 'advert_industry_inner', 'campaign_id',\n",
       "       'creative_id', 'creative_tp_dnf', 'app_cate_id', 'f_channel', 'app_id',\n",
       "       'inner_slot_id', 'creative_type', 'creative_width', 'creative_height',\n",
       "       'creative_is_jump', 'creative_is_download', 'creative_is_js',\n",
       "       'creative_is_voicead', 'creative_has_deeplink', 'app_paid',\n",
       "       'advert_name', 'click\\n'],\n",
       "      dtype='object')"
      ]
     },
     "execution_count": 30,
     "metadata": {},
     "output_type": "execute_result"
    }
   ],
   "source": [
    "train.columns\n",
    "# int(train['click\\n'][5])"
   ]
  },
  {
   "cell_type": "code",
   "execution_count": 39,
   "metadata": {},
   "outputs": [],
   "source": [
    "#  user_tags:label 均值字典\n",
    "user_tags_creative_type_label_dict = {}\n",
    "for i in range(len(train)):\n",
    "    lines_tags = train['user_tags'][i]\n",
    "    labels = train['click\\n'][i]\n",
    "    if labels==' ':\n",
    "        labels = 0\n",
    "    creative_type = train['advert_name'][i]\n",
    "    \n",
    "    lines_tags = str(lines_tags).split(',')\n",
    "    if lines_tags[0] == 'nan':\n",
    "        lines_tags = '0'\n",
    "    for tags in lines_tags:\n",
    "        tmp = str(creative_type)+':'+str(tags)\n",
    "        if tmp not in user_tags_creative_type_label_dict:\n",
    "            user_tags_creative_type_label_dict[tmp] = 1\n",
    "        else:\n",
    "            user_tags_creative_type_label_dict[tmp] +=int(labels)\n",
    "# user_tags_creative_type_label_dict.pop('')        \n",
    "    \n",
    "import pickle\n",
    "with open(path+'dict/user_tags_advert_name_label_dict.dat', \"wb\") as file_obj:  \n",
    "    pickle.dump(user_tags_creative_type_label_dict, file_obj)"
   ]
  },
  {
   "cell_type": "code",
   "execution_count": 8,
   "metadata": {},
   "outputs": [],
   "source": [
    "# def getsplit_advert_industry_inner_1(advert_industry_inner_1):\n",
    "#     tmp = str(advert_industry_inner_1)\n",
    "#     if '_' in tmp:\n",
    "#         return tmp.split('_')[0]\n",
    "#     else:\n",
    "#         return 0\n",
    "    \n",
    "# def getsplit_advert_industry_inner_2(advert_industry_inner_2):\n",
    "#     tmp = str(advert_industry_inner_2)\n",
    "#     if '_' in tmp:\n",
    "#         return tmp.split('_')[1]\n",
    "#     else:\n",
    "#         return 0\n",
    "\n",
    "# train['advert_industry_inner_1'] = train['advert_industry_inner'].apply(getsplit_advert_industry_inner_1)\n",
    "# train['advert_industry_inner_2'] = train['advert_industry_inner'].apply(getsplit_advert_industry_inner_2)"
   ]
  },
  {
   "cell_type": "code",
   "execution_count": 20,
   "metadata": {},
   "outputs": [],
   "source": [
    "# # 时间分钟循环标记\n",
    "# concat_time = pd.concat([train['time'],test['time']]) \n",
    "# all_sort_time = concat_time.sort_values()\n",
    "# all_sort_time = np.array(all_sort_time)\n",
    "\n",
    "# for i in range(len(all_sort_time)-1):\n",
    "#     all_sort_time[i] = all_sort_time[i+1]-all_sort_time[i]\n",
    "# all_sort_time[len(all_sort_time)-1] = all_sort_time[len(all_sort_time)-2]\n",
    "\n",
    "# epoch = 1440\n",
    "# tmp = 0\n",
    "# for i in range(1,len(all_sort_time)):\n",
    "#     if all_sort_time[i]== 0:\n",
    "#         all_sort_time[i] = all_sort_time[i-1]\n",
    "#     else:\n",
    "#         all_sort_time[i] = all_sort_time[i] + all_sort_time[i-1]\n",
    "#     if all_sort_time[i] > epoch:\n",
    "#         all_sort_time[i] = all_sort_time[i] - epoch\n",
    "\n",
    "# import pickle\n",
    "# time_dict = {}\n",
    "# temp_sort = concat_time.sort_values()\n",
    "# temp_sort = np.array(temp_sort)\n",
    "# for i in range(len(concat_time)):\n",
    "#     if temp_sort[i] not in time_dict:\n",
    "#         time_dict[temp_sort[i]] = all_sort_time[i]\n",
    "        \n",
    "# with open(path+'dict/time_sort_dict.dat', \"wb\") as file_obj:  \n",
    "#     pickle.dump(time_dict, file_obj)\n",
    "    "
   ]
  },
  {
   "cell_type": "code",
   "execution_count": 3,
   "metadata": {},
   "outputs": [],
   "source": [
    "train['adid_campaign_id']=train['adid'].map(str)+\":\"+train['campaign_id'].map(str)\n",
    "train['adid_creative_id']=train['adid'].map(str)+\":\"+train['creative_id'].map(str)\n",
    "train['adid_creative_type']=train['adid'].map(str)+\":\"+train['creative_type'].map(str)\n",
    "\n",
    "train['campaign_id_creative_id']=train['campaign_id'].map(str)+\":\"+train['creative_id'].map(str)\n",
    "train['campaign_id_creative_type']=train['campaign_id'].map(str)+\":\"+train['creative_type'].map(str)\n",
    "train['creative_id_creative_type']=train['creative_id'].map(str)+\":\"+train['creative_type'].map(str)"
   ]
  },
  {
   "cell_type": "code",
   "execution_count": 9,
   "metadata": {},
   "outputs": [],
   "source": [
    "# 特征处理为数字\n",
    "import pickle\n",
    "def feature2num(data,feature_name):\n",
    "    tmp_feature_dict ={}\n",
    "    for i in range(len(data)):\n",
    "        tmp = data[feature_name][i]\n",
    "        if tmp not in tmp_feature_dict:\n",
    "            tmp_feature_dict[tmp] = 1\n",
    "        else:\n",
    "            tmp_feature_dict[tmp] +=1\n",
    "            \n",
    "    sorted_feature_dict = sorted(tmp_feature_dict.items(),key = lambda x:x[1],reverse = False)\n",
    "    num = 1\n",
    "    for key in sorted_feature_dict:\n",
    "        tmp_feature_dict[key[0]] = num\n",
    "        num += 1 \n",
    "    with open(path+'dict/'+feature_name+'_dict.dat', \"wb\") as file_obj:  \n",
    "        pickle.dump(tmp_feature_dict, file_obj)\n",
    "\n",
    "feature2num(train,'creative_id_creative_type')"
   ]
  },
  {
   "cell_type": "code",
   "execution_count": null,
   "metadata": {},
   "outputs": [],
   "source": [
    "sorted(user_tags_dict.items(),key = lambda x:x[1],reverse = True)"
   ]
  },
  {
   "cell_type": "code",
   "execution_count": null,
   "metadata": {},
   "outputs": [],
   "source": [
    "lines_tags = str(lines_tags).split(',')\n",
    "print(lines_tags)\n",
    "train['user_tags'].describe()"
   ]
  },
  {
   "cell_type": "code",
   "execution_count": null,
   "metadata": {
    "scrolled": true
   },
   "outputs": [],
   "source": [
    "original_feature_list = train.columns\n",
    "print(original_feature_list)\n",
    "new_feature_list = train.drop(['instance_id','make','app_paid','creative_has_deeplink','creative_is_voicead','creative_is_js','click\\n'],axis=1)\n",
    "print(new_feature_list.columns)"
   ]
  }
 ],
 "metadata": {
  "kernelspec": {
   "display_name": "Python 3",
   "language": "python",
   "name": "python3"
  },
  "language_info": {
   "codemirror_mode": {
    "name": "ipython",
    "version": 3
   },
   "file_extension": ".py",
   "mimetype": "text/x-python",
   "name": "python",
   "nbconvert_exporter": "python",
   "pygments_lexer": "ipython3",
   "version": "3.6.5"
  }
 },
 "nbformat": 4,
 "nbformat_minor": 2
}

{
 "cells": [
  {
   "cell_type": "code",
   "execution_count": null,
   "metadata": {},
   "outputs": [],
   "source": [
    "import pandas as pd\n",
    "import numpy as np\n",
    "import pickle\n",
    "\n",
    "path = 'C:/Users/tangzz/Documents/Data/iFLYTEK/'\n",
    "train = pd.read_csv(path+\"train_new_number_feature.csv\")\n",
    "test = pd.read_csv(path+\"test_new_number_feature.csv\")\n",
    "\n",
    "with open( path + 'dict/labels.dat','rb') as f:\n",
    "    labels = pickle.load(f)"
   ]
  },
  {
   "cell_type": "code",
   "execution_count": null,
   "metadata": {},
   "outputs": [],
   "source": [
    "temp_featurn = train.drop(['Unnamed: 0'],axis=1)\n",
    "train_featurn = temp_featurn.columns\n",
    "train_featurn = ['time', 'make', 'model', 'nnt', 'adid', 'advert_id', 'orderid', 'advert_industry_inner', 'campaign_id', 'creative_id', 'creative_type', 'creative_width', 'creative_height','adid_creative_id', 'adid_creative_type','user_tags_adid_label', 'user_tags_advert_id_label', 'user_tags_orderid_label', 'user_tags_advert_industry_inner_label', 'user_tags_advert_name_label', 'user_tags_campaign_id_label', 'user_tags_creative_id_label', 'user_tags_creative_type_label', 'creative_area', 'user_tags_0', 'user_tags_1', 'user_tags_2', 'user_tags_3', 'user_tags_4', 'user_tags_5', 'user_tags_6', 'user_tags_7', 'user_tags_8', 'user_tags_9', 'creative_type_user_tag_0', 'creative_type_user_tag_1', 'creative_type_user_tag_2', 'creative_type_user_tag_3', 'creative_type_user_tag_4', 'creative_type_user_tag_5', 'creative_type_user_tag_6', 'creative_type_user_tag_7', 'creative_type_user_tag_8', 'creative_type_user_tag_9', 'adid_user_tag_0', 'adid_user_tag_1', 'adid_user_tag_2', 'adid_user_tag_3', 'adid_user_tag_4', 'adid_user_tag_5', 'adid_user_tag_6', 'adid_user_tag_7', 'adid_user_tag_8', 'adid_user_tag_9', 'advert_id_user_tag_0', 'advert_id_user_tag_1', 'advert_id_user_tag_2', 'advert_id_user_tag_3', 'advert_id_user_tag_4', 'advert_id_user_tag_5', 'advert_id_user_tag_6', 'advert_id_user_tag_7', 'advert_id_user_tag_8', 'advert_id_user_tag_9', 'orderid_user_tag_0', 'orderid_user_tag_1', 'orderid_user_tag_2', 'orderid_user_tag_3', 'orderid_user_tag_4', 'orderid_user_tag_5', 'orderid_user_tag_6', 'orderid_user_tag_7', 'orderid_user_tag_8', 'orderid_user_tag_9', 'campaign_id_user_tag_0', 'campaign_id_user_tag_1', 'campaign_id_user_tag_2', 'campaign_id_user_tag_3', 'campaign_id_user_tag_4', 'campaign_id_user_tag_5', 'campaign_id_user_tag_6', 'campaign_id_user_tag_7', 'campaign_id_user_tag_8', 'campaign_id_user_tag_9', 'creative_id_user_tag_0', 'creative_id_user_tag_1', 'creative_id_user_tag_2', 'creative_id_user_tag_3', 'creative_id_user_tag_4', 'creative_id_user_tag_5', 'creative_id_user_tag_6', 'creative_id_user_tag_7', 'creative_id_user_tag_8', 'creative_id_user_tag_9', 'creative_area_user_tag_0', 'creative_area_user_tag_1', 'creative_area_user_tag_2', 'creative_area_user_tag_3', 'creative_area_user_tag_4', 'creative_area_user_tag_5', 'creative_area_user_tag_6', 'creative_area_user_tag_7', 'creative_area_user_tag_8', 'creative_area_user_tag_9']"
   ]
  },
  {
   "cell_type": "code",
   "execution_count": null,
   "metadata": {},
   "outputs": [],
   "source": [
    "from sklearn.model_selection import train_test_split\n",
    "X_train,X_validate,y_train,y_validate = train_test_split(train[train_featurn],labels,test_size=0.2,random_state=100)"
   ]
  },
  {
   "cell_type": "code",
   "execution_count": null,
   "metadata": {
    "scrolled": true
   },
   "outputs": [],
   "source": [
    "import lightgbm as lgb\n",
    "\n",
    "LGB_train = lgb.Dataset(X_train, y_train)  \n",
    "LGB_eval = lgb.Dataset(X_validate, y_validate, reference=LGB_train)  \n",
    "params = {\n",
    "    'boosting_type': 'gbdt',\n",
    "    'objective': 'binary',\n",
    "    'learning_rate': 0.01,\n",
    "    'max_depth':8,\n",
    "    'metric':'binary_logloss',\n",
    "    'num_leaves':256,\n",
    "    'feature_fraction':0.9}\n",
    "model_LGB = lgb.train(params,LGB_train,num_boost_round=3000,valid_sets=LGB_eval,early_stopping_rounds=100) \n",
    "\n",
    "with open( path +'pkl/model_LGBM.pkl','wb') as f:\n",
    "        pickle.dump(model_LGB,f)\n",
    "importance = model_LGB.feature_importance()\n",
    "names = model_LGB.feature_name()\n",
    "\n",
    "pred_LGB = model_LGB.predict(test[train_featurn])\n",
    "with open( path +'predict/labels_LGB.model','wb') as f:\n",
    "        pickle.dump(pred_LGB,f)"
   ]
  },
  {
   "cell_type": "code",
   "execution_count": null,
   "metadata": {},
   "outputs": [],
   "source": [
    "# from sklearn.ensemble import RandomForestClassifier\n",
    "\n",
    "# model_RF = RandomForestClassifier(n_estimators=400,random_state=200,criterion='gini')\n",
    "# model_RF.fit(X_train,y_train)\n",
    "# print(\"RFaccuracy:{0}\".format(model_RF.score(X_train,y_train)))\n",
    "# print(\"RFcv_score:{0}\".format(model_RF.score(X_validate,y_validate)))\n",
    "\n",
    "# pred_RF = model_RF.predict_proba(test[train_featurn_62])\n",
    "# with open( path +'predict/labels_RF.model','wb') as f:\n",
    "#         pickle.dump(pred_RF,f)"
   ]
  },
  {
   "cell_type": "code",
   "execution_count": null,
   "metadata": {},
   "outputs": [],
   "source": [
    "# import xgboost as xgb\n",
    "\n",
    "# model_XGB = xgb.XGBClassifier(max_depth=30, min_child_weight=1, n_estimators=300,n_jobs=-1 ,verbose=1,learning_rate=0.05)\n",
    "# model_XGB.fit(X_train,y_train)\n",
    "# print(\"XGBaccuracy:{0}\".format(model_XGB.score(X_train,y_train)))\n",
    "# print(\"XGBcv_score:{0}\".format(model_XGB.score(X_validate,y_validate)))\n",
    "        \n",
    "# pred_XGB = model_XGB.predict_proba(test[train_featurn_62])\n",
    "# with open( path +'predict/labels_XGB.model','wb') as f:\n",
    "#         pickle.dump(pred_XGB,f)"
   ]
  },
  {
   "cell_type": "code",
   "execution_count": null,
   "metadata": {},
   "outputs": [],
   "source": [
    "importance = model_LGB.feature_importance()\n",
    "print(importance)\n",
    "print(names)\n",
    "np.mean(importance)"
   ]
  },
  {
   "cell_type": "code",
   "execution_count": null,
   "metadata": {},
   "outputs": [],
   "source": [
    "# from sklearn.model_selection import GridSearchCV\n",
    "# from sklearn import metrics\n",
    "\n",
    "# model_lgb = lgb.LGBMRegressor(objective='binary',learning_rate=0.1,metric='binary_logloss',num_boost_round=2000,early_stopping_rounds=30) \n",
    "# params_test={'max_depth': range(3,15,1) \n",
    "# #               'n_estimator':range(50,400,20),\n",
    "# #              'num_boost_round':range(1000,2000,200),\n",
    "# #               'metric':['binary_logloss'],\n",
    "# #               'learning_rate':[0.01,0.05,0.075,0.1],\n",
    "# #              'feature_fraction':[0.6,0.7,0.8,0.9,1.0],\n",
    "# #               'num_leaves':range(200, 600, 50)\n",
    "#             } \n",
    "# gsearch = GridSearchCV(estimator=model_lgb, param_grid=params_test,cv=5)\n",
    "# gsearch.fit(X_train,y_train)\n",
    "# print(\"Test set score:{:.2f}\".format(gsearch.score(X_validate,y_validate)))\n",
    "# print(\"Best parameters:{}\".format(gsearch.best_params_))\n",
    "# print(\"Best score on train set:{:.2f}\".format(gsearch.best_score_))"
   ]
  },
  {
   "cell_type": "code",
   "execution_count": null,
   "metadata": {},
   "outputs": [],
   "source": [
    "import csv\n",
    "\n",
    "test_id = pd.read_csv(path+'test_feature.csv')\n",
    "with open(path+\"example.csv\",\"w\",newline='',encoding='utf-8') as csvfile:\n",
    "    writer = csv.writer(csvfile)\n",
    "    writer.writerow([\"instance_id\",\"predicted_score\"])\n",
    "    for i in range(len(test_id)):\n",
    "        writer.writerow([test_id['instance_id'][i],pred_LGB[i]])"
   ]
  }
 ],
 "metadata": {
  "kernelspec": {
   "display_name": "Python 3",
   "language": "python",
   "name": "python3"
  },
  "language_info": {
   "codemirror_mode": {
    "name": "ipython",
    "version": 3
   },
   "file_extension": ".py",
   "mimetype": "text/x-python",
   "name": "python",
   "nbconvert_exporter": "python",
   "pygments_lexer": "ipython3",
   "version": "3.6.5"
  }
 },
 "nbformat": 4,
 "nbformat_minor": 2
}

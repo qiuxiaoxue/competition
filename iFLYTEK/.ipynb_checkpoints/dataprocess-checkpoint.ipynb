{
 "cells": [
  {
   "cell_type": "code",
   "execution_count": 1,
   "metadata": {},
   "outputs": [],
   "source": [
    "import pandas as pd\n",
    "import numpy as np\n",
    "\n",
    "path = 'C:/Users/tangzz/Documents/Data/iFLYTEK/'"
   ]
  },
  {
   "cell_type": "code",
   "execution_count": 9,
   "metadata": {
    "scrolled": true
   },
   "outputs": [
    {
     "name": "stdout",
     "output_type": "stream",
     "text": [
      "['instance_id', 'time', 'city', 'province', 'user_tags', 'carrier', 'devtype', 'make', 'model', 'nnt', 'os', 'osv', 'os_name', 'adid', 'advert_id', 'orderid', 'advert_industry_inner', 'campaign_id', 'creative_id', 'creative_tp_dnf', 'app_cate_id', 'f_channel', 'app_id', 'inner_slot_id', 'creative_type', 'creative_width', 'creative_height', 'creative_is_jump', 'creative_is_download', 'creative_is_js', 'creative_is_voicead', 'creative_has_deeplink', 'app_paid', 'advert_name', 'click\\n']\n",
      "<class 'list'>\n",
      "35\n"
     ]
    }
   ],
   "source": [
    "import pickle\n",
    "import csv\n",
    "\n",
    "train_features = open(path +'round1_iflyad_train.txt','r',encoding='utf-8').readlines()\n",
    "train_features_columns = train_features[0].split('\\t')\n",
    "print(train_features_columns)\n",
    "print(type(train_features_columns))\n",
    "print(len(train_features_columns))\n",
    "    \n",
    "with open(path +\"train_feature.csv\",\"w\",newline='',encoding='utf-8') as csvfile:\n",
    "    writer = csv.writer(csvfile)\n",
    "    writer.writerow(train_features_columns)\n",
    "    for i in range(1,len(train_features)):\n",
    "        writer.writerow(train_features[i].split('\\t'))\n",
    "\n",
    "test_features = open(path +'round1_iflyad_test_feature.txt','r',encoding='utf-8').readlines()\n",
    "test_features_columns = test_features[0].split('\\t')\n",
    "    \n",
    "with open(path +\"test_feature.csv\",\"w\",newline='',encoding='utf-8') as csvfile:\n",
    "    writer = csv.writer(csvfile)\n",
    "    writer.writerow(test_features_columns)\n",
    "    for i in range(1,len(test_features)):\n",
    "        writer.writerow(test_features[i].split('\\t'))"
   ]
  },
  {
   "cell_type": "code",
   "execution_count": 16,
   "metadata": {},
   "outputs": [],
   "source": [
    "train_features = open(path +'round1_iflyad_train.txt','r',encoding='utf-8').readlines()\n",
    "test_features = open(path+'round1_iflyad_test_feature.txt','r',encoding='utf-8').readlines()\n",
    "\n",
    "file = open (path +'concat_features.txt','w',encoding='utf-8')\n",
    "for line in train_features:\n",
    "    tmpline = str(line).split('\\t')\n",
    "    if tmpline[4] == '':\n",
    "        file.write('0')\n",
    "    else:\n",
    "        file.write(tmpline[4])\n",
    "    file.write('\\n')\n",
    "\n",
    "for line in test_features:\n",
    "    tmpline = str(line).split('\\t')\n",
    "    if tmpline[4] == '':\n",
    "        file.write('0')\n",
    "    else:\n",
    "        file.write(tmpline[4])\n",
    "    file.write('\\n')\n",
    "file.close()"
   ]
  },
  {
   "cell_type": "code",
   "execution_count": 18,
   "metadata": {},
   "outputs": [],
   "source": [
    "concat_featrues = open(path+'concat_features.txt','r',encoding='utf-8').readlines()\n",
    "\n",
    "file = open(path +'concat_features_space.txt','w',encoding='utf-8')\n",
    "for line in concat_featrues:\n",
    "    tmp = line.replace(' ','')\n",
    "    tmp = tmp.replace(',,',',')\n",
    "    tmp = tmp.replace(',',' ')\n",
    "    tmp = tmp.replace('  ',' ')\n",
    "    file.write(tmp)"
   ]
  }
 ],
 "metadata": {
  "kernelspec": {
   "display_name": "Python 3",
   "language": "python",
   "name": "python3"
  },
  "language_info": {
   "codemirror_mode": {
    "name": "ipython",
    "version": 3
   },
   "file_extension": ".py",
   "mimetype": "text/x-python",
   "name": "python",
   "nbconvert_exporter": "python",
   "pygments_lexer": "ipython3",
   "version": "3.6.5"
  }
 },
 "nbformat": 4,
 "nbformat_minor": 2
}

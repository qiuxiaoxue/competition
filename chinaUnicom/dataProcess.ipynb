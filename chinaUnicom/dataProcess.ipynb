{
 "cells": [
  {
   "cell_type": "code",
   "execution_count": 1,
   "metadata": {
    "scrolled": false
   },
   "outputs": [],
   "source": [
    "import pandas as pd\n",
    "import numpy as np\n",
    "import warnings\n",
    "\n",
    "warnings.filterwarnings('ignore')\n",
    "\n",
    "path = \"C:/Data/chinaUnicom/\"\n",
    "train_data = pd.read_csv(path + \"train/train_.csv\")\n",
    "test_data = pd.read_csv(path + \"test/test_.csv\")"
   ]
  },
  {
   "cell_type": "code",
   "execution_count": 2,
   "metadata": {
    "scrolled": false
   },
   "outputs": [],
   "source": [
    "# 特征处理\n",
    "def increaseFeatures(train):\n",
    "    # 费用\n",
    "    train['avg_total_fee']=(train['1_total_fee']+train['2_total_fee']+train['3_total_fee']+train['3_total_fee']).astype(float)/4.0\n",
    "    train['sum_total_fee'] = (train['1_total_fee']+train['2_total_fee']+train['3_total_fee']+train['3_total_fee']).astype(float)\n",
    "    train['pay_num_per'] = train['pay_num'].astype(float)/train['pay_times']\n",
    "    train['contract_timex_feex_over_bill'] = (train['avg_total_fee']*train['contract_time']*train['many_over_bill']).astype(float)\n",
    "    train['contract_online_time_rate'] = (train['contract_time']/train['online_time']).astype(float)\n",
    "    # 流量\n",
    "    train['sum_traffic_month'] = train['month_traffic'] + train['local_trafffic_month']+1\n",
    "    train['out_local_traffic_rate'] = train['month_traffic'].astype(float)/train['sum_traffic_month']\n",
    "    train['local_sum_traffic_rate'] = train['local_trafffic_month'].astype(float)/train['sum_traffic_month']\n",
    "    train['last_month_sum_traffic_rate'] = train['last_month_traffic'].astype(float)/train['sum_traffic_month']\n",
    "    # 通话时间\n",
    "    train['sum_caller_receive_time'] = train['local_caller_time']+train['service1_caller_time']+train['service2_caller_time']+1\n",
    "    train['sum_caller_time'] = train['local_caller_time']+train['service1_caller_time']\n",
    "    train['caller_receive_time_rate'] = train['sum_caller_time'].astype(float)/(train['sum_caller_receive_time'])\n",
    "    # 流量+通话时间+费用\n",
    "    train['month_traffic_total_fee_rate'] = train['sum_traffic_month'].astype(float)/train['sum_caller_receive_time']\n",
    "    train['month_traffic_caller_rate'] = train['sum_traffic_month'].astype(float)/(train['1_total_fee']+1)\n",
    "    train['caller_time_total_fee_rate'] = train['sum_caller_receive_time'].astype(float)/(train['1_total_fee']+1)\n",
    "    #省内、本地流量通话\n",
    "    train['local_trafficx_local_caller'] = train['local_trafffic_month']*train['local_caller_time'].astype(float)\n",
    "    train['month_trafficx_service1_call'] = train['month_traffic']*train['service1_caller_time'].astype(float)\n",
    "    \n",
    "    return train\n",
    "\n",
    "train_data = increaseFeatures(train_data)\n",
    "test_data = increaseFeatures(test_data)"
   ]
  },
  {
   "cell_type": "code",
   "execution_count": 3,
   "metadata": {},
   "outputs": [],
   "source": [
    "#label 处理函数 转为0--14序列或者One_Hot序列\n",
    "from sklearn.preprocessing import LabelEncoder\n",
    "from sklearn.preprocessing import OneHotEncoder\n",
    "\n",
    "def service2label(current_service,One_hot = False):\n",
    "    le = LabelEncoder()\n",
    "    tmp = sorted(current_service.unique())\n",
    "    le.fit(tmp)\n",
    "    label = le.transform(current_service)\n",
    "    ohe_tmp = le.transform(tmp)\n",
    "    if(One_hot==True):\n",
    "        ohe = OneHotEncoder()\n",
    "        ohe.fit(ohe_tmp.reshape(-1,1))\n",
    "        label = ohe.transform(label.reshape(-1,1)).toarray()\n",
    "    return label\n",
    "# label 处理\n",
    "current_service_label = train_data['current_service']\n",
    "label = service2label(current_service_label,One_hot = False)"
   ]
  },
  {
   "cell_type": "code",
   "execution_count": 4,
   "metadata": {},
   "outputs": [],
   "source": [
    "#选取参与训练的数据特征\n",
    "original_feature = train_data.columns\n",
    "train_data.dropna(axis=0,how='any')#删除任何带有NaN值得行\n",
    "train_data.fillna(0)\n",
    "train = train_data.drop(['current_service','user_id','sum_total_fee','net_service','complaint_level','former_complaint_num','former_complaint_fee'],axis=1)\n",
    "original_feature_new = train.columns"
   ]
  },
  {
   "cell_type": "code",
   "execution_count": 14,
   "metadata": {},
   "outputs": [],
   "source": [
    "import pickle \n",
    "import random\n",
    "import pandas as pd\n",
    "\n",
    "def rand_Weights(num):\n",
    "    Weights = np.array([random.randint(0,49)*2.0 +1 for n in range(num)])\n",
    "    tmp = np.sort(Weights)\n",
    "    Weights[0] = tmp[0].astype(float)/100.0\n",
    "    for i in range(num-1):\n",
    "        Weights[i] = (tmp[i+1]-tmp[i]).astype(float)/100.0\n",
    "    Weights[num-1] = (100-tmp[num-2]).astype(float)/100.0\n",
    "    return Weights\n",
    "        \n",
    "def predict_label_Weights(test_data,y_test,path):\n",
    "    with open( path +'model_GBDT.pkl','rb') as f:\n",
    "            model_GBDT = pickle.load(f)\n",
    "    with open( path +'model_XGB.pkl','rb') as f:\n",
    "            model_XGB = pickle.load(f)\n",
    "    with open( path +'model_RF.pkl','rb') as f:\n",
    "            model_RF = pickle.load(f)\n",
    "    with open( path +'model_LGBM.pkl','rb') as f:\n",
    "            model_LGBM = pickle.load(f)\n",
    "        \n",
    "    pred_LGBM = model_LGBM.predict(test_data,num_iteration=model_LGBM.best_iteration)\n",
    "    pred_GBDT = model_GBDT.predict_proba(test_data)        \n",
    "    pred_XGB = model_XGB.predict_proba(test_data)\n",
    "    pred_RF = model_RF.predict_proba(test_data)\n",
    "    accuracy =0.9\n",
    "    weights = np.zeros(4)\n",
    "    for i in range(200):\n",
    "        W = rand_Weights(4)\n",
    "        combine_label = pred_GBDT*W[0]+pred_XGB*W[1]+pred_RF*W[2]+pred_LGBM*W[3]\n",
    "        correct_pred = np.equal(np.argmax(combine_label,axis=1), y_test)\n",
    "        tmp_accuracy = np.mean(correct_pred.astype(float))\n",
    "        if accuracy<tmp_accuracy:\n",
    "            accuracy = tmp_accuracy\n",
    "            print(tmp_accuracy)\n",
    "            weights = W\n",
    "    return weights\n",
    "\n",
    "def predict_label(test_data,W,path):\n",
    "    with open( path +'model_GBDT.pkl','rb') as f:\n",
    "            model_GBDT = pickle.load(f)\n",
    "    with open( path +'model_XGB.pkl','rb') as f:\n",
    "            model_XGB = pickle.load(f)\n",
    "    with open( path +'model_RF.pkl','rb') as f:\n",
    "            model_RF = pickle.load(f)\n",
    "    with open( path +'model_LGBM.pkl','rb') as f:\n",
    "            model_LGBM = pickle.load(f)\n",
    "        \n",
    "    pred_LGBM = model_LGBM.predict(test_data,num_iteration=model_LGBM.best_iteration)\n",
    "    pred_GBDT = model_GBDT.predict_proba(test_data)        \n",
    "    pred_XGB = model_XGB.predict_proba(test_data)\n",
    "    pred_RF = model_RF.predict_proba(test_data)\n",
    "    combine_label = pred_GBDT*W[0]+pred_XGB*W[1]+pred_RF*W[2]+pred_LGBM*W[3]\n",
    "    pred = np.argmax(combine_label,axis=1)\n",
    "    return pred"
   ]
  },
  {
   "cell_type": "code",
   "execution_count": 7,
   "metadata": {},
   "outputs": [],
   "source": [
    "from sklearn.model_selection import train_test_split\n",
    "X_train,X_validate,y_train,y_validate = train_test_split(train[original_feature_new],label,test_size=0.3,random_state=100)"
   ]
  },
  {
   "cell_type": "code",
   "execution_count": 8,
   "metadata": {
    "scrolled": true
   },
   "outputs": [],
   "source": [
    "# import lightgbm as lgb\n",
    "\n",
    "# LGBM_train = lgb.Dataset(X_train, y_train)  \n",
    "# LGBM_eval = lgb.Dataset(X_validate, y_validate, reference=LGBM_train)  \n",
    "# params = {'boosting_type': 'gbdt','objective': 'multiclass','num_class': 15,'metric': 'multi_error','learning_rate': 0.1}\n",
    "# model_LGBM = lgb.train(params,LGBM_train,num_boost_round=300,valid_sets=LGBM_eval,early_stopping_rounds=10) \n",
    "\n",
    "# with open( path +'model_LGBM.pkl','wb') as f:\n",
    "#         pickle.dump(model_LGBM,f)\n",
    "# importance = model_LGBM.feature_importance()\n",
    "# names = model_LGBM.feature_name()"
   ]
  },
  {
   "cell_type": "code",
   "execution_count": 9,
   "metadata": {},
   "outputs": [],
   "source": [
    "# from sklearn.ensemble import RandomForestClassifier\n",
    "\n",
    "# model_RF = RandomForestClassifier(n_estimators=500,random_state=200,criterion='gini')\n",
    "# model_RF.fit(X_train,y_train)\n",
    "# print(\"RFaccuracy:{0}\".format(model_RF.score(X_train,y_train)))\n",
    "# print(\"RFcv_score:{0}\".format(model_RF.score(X_validate,y_validate)))\n",
    "\n",
    "# with open( path +'model_RF.pkl','wb') as f:\n",
    "#         pickle.dump(model_RF,f)"
   ]
  },
  {
   "cell_type": "code",
   "execution_count": 10,
   "metadata": {},
   "outputs": [],
   "source": [
    "# from sklearn.ensemble import GradientBoostingClassifier\n",
    "\n",
    "# model_GBDT = GradientBoostingClassifier(n_estimators=500,learning_rate=0.1,random_state=10,subsample=0.8)\n",
    "# model_GBDT.fit(X_train,y_train)\n",
    "# print(\"GBDTaccuracy:{0}\".format(model_GBDT.score(X_train,y_train)))\n",
    "# print(\"GBDTcv_score:{0}\".format(model_GBDT.score(X_validate,y_validate)))\n",
    "\n",
    "# with open( path +'model_GBDT.pkl','wb') as f:\n",
    "#         pickle.dump(model_GBDT,f)"
   ]
  },
  {
   "cell_type": "code",
   "execution_count": null,
   "metadata": {
    "scrolled": true
   },
   "outputs": [],
   "source": [
    "# import xgboost as xgb\n",
    "\n",
    "# model_XGB = xgb.XGBClassifier(max_depth=30, min_child_weight=1, n_estimators=300,n_jobs=-1 ,verbose=1,learning_rate=0.025)\n",
    "# model_XGB.fit(X_train,y_train)\n",
    "# print(\"XGBaccuracy:{0}\".format(model_XGB.score(X_train,y_train)))\n",
    "# print(\"XGBcv_score:{0}\".format(model_XGB.score(X_validate,y_validate)))\n",
    "\n",
    "# with open( path +'model_XGB.pkl','wb') as f:\n",
    "#         pickle.dump(model_XGB,f)"
   ]
  },
  {
   "cell_type": "code",
   "execution_count": 12,
   "metadata": {},
   "outputs": [],
   "source": [
    "X_train,X_validate,y_train,y_validate = train_test_split(train[original_feature_new],label,test_size=0.5,random_state=100)"
   ]
  },
  {
   "cell_type": "code",
   "execution_count": 15,
   "metadata": {
    "scrolled": true
   },
   "outputs": [],
   "source": [
    "model_weight = predict_label_Weights(X_validate,y_validate,path)\n",
    "pred = predict_label(test_data[original_feature_new],model_weight,path)"
   ]
  },
  {
   "cell_type": "code",
   "execution_count": 16,
   "metadata": {},
   "outputs": [],
   "source": [
    "labeldic = {}\n",
    "tmp = sorted(train_data['current_service'].unique())\n",
    "for i in range(15):\n",
    "    labeldic[i] = tmp[i]\n",
    "for j in range(len(pred)):\n",
    "    pred[j]=labeldic[pred[j]]"
   ]
  },
  {
   "cell_type": "code",
   "execution_count": 17,
   "metadata": {},
   "outputs": [],
   "source": [
    "import csv\n",
    "\n",
    "with open(path+\"sample_submission.csv\",\"w\",newline='',encoding='utf-8') as csvfile:\n",
    "    writer = csv.writer(csvfile)\n",
    "    writer.writerow([\"user_id\",\"current_service\"])\n",
    "    for i in range(len(test_data)):\n",
    "        writer.writerow([test_data['user_id'][i],pred[i]])"
   ]
  },
  {
   "cell_type": "code",
   "execution_count": null,
   "metadata": {},
   "outputs": [],
   "source": [
    "# save inportance featuress\n",
    "# import csv\n",
    "# with open(path+\"features_importance.csv\",\"w\",newline='',encoding='utf-8') as csvfile:\n",
    "#     writer = csv.writer(csvfile)\n",
    "#     writer.writerow([\"feature\",\"importance\"])\n",
    "#     for i in range(len(importance)):\n",
    "#         writer.writerow([importance[i],names[i]])"
   ]
  }
 ],
 "metadata": {
  "kernelspec": {
   "display_name": "Python 3",
   "language": "python",
   "name": "python3"
  },
  "language_info": {
   "codemirror_mode": {
    "name": "ipython",
    "version": 3
   },
   "file_extension": ".py",
   "mimetype": "text/x-python",
   "name": "python",
   "nbconvert_exporter": "python",
   "pygments_lexer": "ipython3",
   "version": "3.6.5"
  }
 },
 "nbformat": 4,
 "nbformat_minor": 2
}
